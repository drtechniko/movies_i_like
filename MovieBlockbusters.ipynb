{
  "nbformat": 4,
  "nbformat_minor": 0,
  "metadata": {
    "colab": {
      "provenance": [],
      "authorship_tag": "ABX9TyODuLX3in9AcDdarw0xKJ2R",
      "include_colab_link": true
    },
    "kernelspec": {
      "name": "python3",
      "display_name": "Python 3"
    },
    "language_info": {
      "name": "python"
    }
  },
  "cells": [
    {
      "cell_type": "markdown",
      "metadata": {
        "id": "view-in-github",
        "colab_type": "text"
      },
      "source": [
        "<a href=\"https://colab.research.google.com/github/drtechniko/movies_i_like/blob/main/MovieBlockbusters.ipynb\" target=\"_parent\"><img src=\"https://colab.research.google.com/assets/colab-badge.svg\" alt=\"Open In Colab\"/></a>"
      ]
    },
    {
      "cell_type": "markdown",
      "source": [
        "**Welcome to the AI I made to select movies for me!**"
      ],
      "metadata": {
        "id": "b-xXakLwm9W2"
      }
    },
    {
      "cell_type": "markdown",
      "source": [
        "First I need to load the data from my spreadsheet. I labeled some movies with \"I like\" and \"I don't like\" so that I can teach the AI my preferences."
      ],
      "metadata": {
        "id": "cHqYF0FnY7zm"
      }
    },
    {
      "cell_type": "code",
      "source": [
        "from google.colab import auth\n",
        "auth.authenticate_user()\n",
        "\n",
        "import gspread\n",
        "from google.auth import default\n",
        "import numpy as np\n",
        "\n",
        "# Define function to load data from Google Sheet\n",
        "def load_data_from_sheet():\n",
        "  creds, _ = default()\n",
        "  gc = gspread.authorize(creds)\n",
        "  worksheet = gc.open('movies_i_like').worksheet('training')\n",
        "\n",
        "  # get_all_values gives a list of rows.\n",
        "  data = worksheet.get_all_values()\n",
        "  #print(data)\n",
        "\n",
        "  # Extract data assuming features follow the movie title and\n",
        "  # the target labels are in the final column.\n",
        "  features = np.array([[float(bool(x == 'TRUE')) for x in row[1:-1]] for row in data[1:]])  # Skip header row and Title column\n",
        "  #target_labels = np.array([int(bool(row[-1])) for row in data[1:]])  # Extract labels from last column\n",
        "  target_labels = np.array([int(bool(row[-1] == 'TRUE')) for row in data[1:]])  # Extract labels from last column\n",
        "  return features, target_labels\n",
        "\n",
        "# Load data from Google Sheet\n",
        "X, y = load_data_from_sheet()\n",
        "#print(X)\n",
        "#print('do I like?')\n",
        "#print(y)\n",
        "# Save the number of features that we have so we can build our model later.\n",
        "NUM_OF_FEATURES = len(X[0])\n",
        "\n",
        "def load_movies_to_rate():\n",
        "  creds, _ = default()\n",
        "  gc = gspread.authorize(creds)\n",
        "  worksheet = gc.open('movies_i_like').worksheet('inference')\n",
        "\n",
        "  # get_all_values gives a list of rows.\n",
        "  data = worksheet.get_all_values()\n",
        "  # print(data)\n",
        "\n",
        "  # Extract titles to build a map from title to features and expected_label\n",
        "  moviesToRate = {}\n",
        "  for row in data[1:]:\n",
        "    title = row[0]\n",
        "    features = np.array([float(bool(x == 'TRUE')) for x in row[1:-1]])\n",
        "    expected_label = int(bool(row[-1] == 'TRUE'))\n",
        "    moviesToRate[title] = (features, expected_label)\n",
        "\n",
        "  return moviesToRate\n",
        "\n",
        "moviesToRate  = load_movies_to_rate()\n",
        "# print('moviesToRate')\n",
        "# print(moviesToRate)"
      ],
      "metadata": {
        "id": "7bqfpeiXY_ht"
      },
      "execution_count": 70,
      "outputs": []
    },
    {
      "cell_type": "markdown",
      "source": [
        "Now We Train Our Model and see how it improves its accuracy over time."
      ],
      "metadata": {
        "id": "E2y11lEBT9V-"
      }
    },
    {
      "cell_type": "code",
      "source": [
        "import torch\n",
        "from torch import nn\n",
        "from torch.optim import SGD\n",
        "import numpy as np\n",
        "\n",
        "from sklearn.model_selection import train_test_split\n",
        "\n",
        "# Hyperparameters\n",
        "learning_rate = 0.02\n",
        "epochs = 1000\n",
        "\n",
        "##### DANGEROUS CODE THAT GOOGLE'S CHATGPT/GEMINI generated for me!\n",
        "##### It turned my likes into dislikes and vice versa!\n",
        "# Encode target labels (0: dislike, 1: like)\n",
        "# y = (y == 0).astype(int)  # Encode centers as 0 (dislike) and 1 (like)\n",
        "#####\n",
        "\n",
        "# Split data into training and testing sets\n",
        "X_train, X_test, y_train, y_test = train_test_split(X, y, test_size=0.1, random_state=15)\n",
        "\n",
        "# Convert data to tensors\n",
        "X_train_tensor = torch.from_numpy(X_train).float()\n",
        "y_train_tensor = torch.from_numpy(y_train.reshape(-1, 1)).float()\n",
        "X_test_tensor = torch.from_numpy(X_test).float()\n",
        "y_test_tensor = torch.from_numpy(y_test.reshape(-1, 1)).float()\n",
        "\n",
        "# Define model (linear layer with 1 output for binary classification)\n",
        "class LogisticRegression(nn.Module):\n",
        "    def __init__(self, input_dim):\n",
        "        super(LogisticRegression, self).__init__()\n",
        "        self.linear = nn.Linear(input_dim, 1)  # Single output for binary classification\n",
        "\n",
        "    def forward(self, x):\n",
        "        # Apply sigmoid activation for probability output between 0 and 1\n",
        "        return torch.sigmoid(self.linear(x))\n",
        "\n",
        "# Create model and optimizer\n",
        "model = LogisticRegression(NUM_OF_FEATURES)\n",
        "optimizer = SGD(model.parameters(), lr=learning_rate)\n",
        "\n",
        "# Define loss function (binary cross-entropy for classification)\n",
        "loss_fn = nn.BCELoss()\n",
        "\n",
        "# Train the model\n",
        "loss_per_epoch = []\n",
        "for epoch in range(epochs):\n",
        "    # Forward pass\n",
        "    y_pred = model(X_train_tensor)\n",
        "    loss = loss_fn(y_pred, y_train_tensor)\n",
        "\n",
        "    # Backward pass and optimize\n",
        "    optimizer.zero_grad()\n",
        "    loss.backward()\n",
        "    optimizer.step()\n",
        "\n",
        "    # Save the loss for plotting\n",
        "    loss_per_epoch.append(loss.item())\n",
        "    # Print loss (optional)\n",
        "    #if (epoch+1) % 100 == 0:\n",
        "    #    print(f\"Epoch: {epoch+1} - Loss: {loss.item():.4f}\")\n",
        "\n",
        "# Test the model on unseen data\n",
        "with torch.no_grad():\n",
        "    y_pred_test = model(X_test_tensor)\n",
        "    # Apply threshold (e.g., 0.5) to convert probabilities to predicted classes\n",
        "    predicted_classes = (y_pred_test > 0.5).float()\n",
        "\n",
        "# Calculate accuracy (optional)\n",
        "accuracy = (predicted_classes == y_test_tensor).sum().item() / len(y_test_tensor)\n",
        "print(f\"\\nTest Accuracy: {accuracy:.4f}\")\n",
        "\n",
        "#print('model weights:')\n",
        "#print(model.linear.weight)\n",
        "#print('model biases:')\n",
        "#print(model.linear.bias)\n",
        "\n",
        "import matplotlib.pyplot as plt\n",
        "# Plot loss function (using entire training data for visualization)\n",
        "plt.plot(range(epochs), loss_per_epoch)\n",
        "plt.xlabel(\"Epoch\")\n",
        "plt.ylabel(\"Loss\")\n"
      ],
      "metadata": {
        "colab": {
          "base_uri": "https://localhost:8080/",
          "height": 501
        },
        "id": "BFIa8KDZUAXh",
        "outputId": "7e74982e-1e68-404c-e75e-9e6161588c98"
      },
      "execution_count": 71,
      "outputs": [
        {
          "output_type": "stream",
          "name": "stdout",
          "text": [
            "\n",
            "Test Accuracy: 1.0000\n"
          ]
        },
        {
          "output_type": "execute_result",
          "data": {
            "text/plain": [
              "Text(0, 0.5, 'Loss')"
            ]
          },
          "metadata": {},
          "execution_count": 71
        },
        {
          "output_type": "display_data",
          "data": {
            "text/plain": [
              "<Figure size 640x480 with 1 Axes>"
            ],
            "image/png": "[encoded data removed]"
          },
          "metadata": {}
        }
      ]
    },
    {
      "cell_type": "markdown",
      "source": [
        "Now we visualize the result of training the AI"
      ],
      "metadata": {
        "id": "f_jJag8RUEpq"
      }
    },
    {
      "cell_type": "code",
      "source": [
        "import matplotlib.pyplot as plt\n",
        "from sklearn.manifold import TSNE\n",
        "\n",
        "# Apply TSNE for dimensionality reduction (optional)\n",
        "tsne = TSNE(n_components=2, perplexity = 5.0, random_state=5)\n",
        "X_tsne = tsne.fit_transform(X) #n_samples = 12, n_features = 12\n",
        "\n",
        "# Scatter plot data points colored by target value\n",
        "area = [10**2] * len(y)\n",
        "plt.scatter(X_tsne[:, 0], X_tsne[:, 1], s=area, c=y, alpha = 0.3, cmap=\"viridis\")\n",
        "\n",
        "# Plot the model line (y = weights * x + bias)\n",
        "x1 = np.linspace(min(X_tsne[:, 0]), max(X_tsne[:, 0]), 100)\n",
        "\n",
        "weight = np.mean(model.linear.weight[0].detach().numpy())\n",
        "bias = model.linear.bias[0].detach().numpy()\n",
        "\n",
        "y1 = weight * x1 + bias\n",
        "plt.plot(x1, y1, color=\"red\", label=\"Model\")\n",
        "plt.xlabel(\"TSNE Dimension 1\")\n",
        "plt.ylabel(\"TSNE Dimension 2\")\n",
        "plt.title(\"Data and Model in Reduced Dimensions (TSNE)\")\n",
        "plt.legend()\n",
        "plt.show()"
      ],
      "metadata": {
        "colab": {
          "base_uri": "https://localhost:8080/",
          "height": 472
        },
        "id": "hKgJ1qzAUKD5",
        "outputId": "430b357b-5acf-4e4c-c49c-1016ca228a76"
      },
      "execution_count": 72,
      "outputs": [
        {
          "output_type": "display_data",
          "data": {
            "text/plain": [
              "<Figure size 640x480 with 1 Axes>"
            ],
            "image/png": "[encoded data removed]"
          },
          "metadata": {}
        }
      ]
    },
    {
      "cell_type": "markdown",
      "source": [
        "Now Let's see how well it will figure out whether I like or not another show that it has not seen before."
      ],
      "metadata": {
        "id": "QV2Azr4KNccJ"
      }
    },
    {
      "cell_type": "code",
      "source": [
        "def say(iLike):\n",
        "  if iLike:\n",
        "    return 'Yes!\\n'\n",
        "  else:\n",
        "    return 'Nope.\\n'\n",
        "\n",
        "def getAnswer(movie):\n",
        "  score = model(torch.from_numpy(moviesToRate[movie][0]).float()).item()\n",
        "  print(f\"Likelihood: {100*score:.1f}%\")\n",
        "  return score > 0.5\n",
        "\n",
        "model.eval()\n",
        "\n",
        "print('Do I like Naruto?')\n",
        "print(say(getAnswer('Naruto')))\n",
        "\n",
        "print('Do I Like Star Wars?')\n",
        "print(say(getAnswer('Star Wars')))\n",
        "\n",
        "print('Do I Like High School Musical?')\n",
        "print(say(getAnswer('High School Musical')))\n",
        "\n",
        "print('Do I Like The Princess Diaries?')\n",
        "print(say(getAnswer('The Princess Diaries')))\n",
        "\n",
        "print('Do I Like Stranger Things?')\n",
        "print(say(getAnswer('Stranger Things')))"
      ],
      "metadata": {
        "colab": {
          "base_uri": "https://localhost:8080/"
        },
        "id": "qIUmL5voOTSK",
        "outputId": "612b01d1-5bdd-4291-bfb8-3aa5e1441bea"
      },
      "execution_count": 73,
      "outputs": [
        {
          "output_type": "stream",
          "name": "stdout",
          "text": [
            "Do I like Naruto?\n",
            "Likelihood: 94.3%\n",
            "Yes!\n",
            "\n",
            "Do I Like Star Wars?\n",
            "Likelihood: 92.9%\n",
            "Yes!\n",
            "\n",
            "Do I Like High School Musical?\n",
            "Likelihood: 2.6%\n",
            "Nope.\n",
            "\n",
            "Do I Like The Princess Diaries?\n",
            "Likelihood: 8.7%\n",
            "Nope.\n",
            "\n",
            "Do I Like Stranger Things?\n",
            "Likelihood: 80.1%\n",
            "Yes!\n",
            "\n"
          ]
        }
      ]
    }
  ]
}